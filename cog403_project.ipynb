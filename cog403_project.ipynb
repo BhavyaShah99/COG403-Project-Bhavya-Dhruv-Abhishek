{
  "nbformat": 4,
  "nbformat_minor": 0,
  "metadata": {
    "accelerator": "GPU",
    "colab": {
      "name": "cog403-project.ipynb",
      "provenance": [],
      "collapsed_sections": [],
      "include_colab_link": true
    },
    "kernelspec": {
      "display_name": "Python 3",
      "name": "python3"
    },
    "language_info": {
      "name": "python"
    }
  },
  "cells": [
    {
      "cell_type": "markdown",
      "metadata": {
        "id": "view-in-github",
        "colab_type": "text"
      },
      "source": [
        "<a href=\"https://colab.research.google.com/github/BhavyaShah99/COG403-Project-Bhavya-Dhruv-Abhishek/blob/main/cog403_project.ipynb\" target=\"_parent\"><img src=\"https://colab.research.google.com/assets/colab-badge.svg\" alt=\"Open In Colab\"/></a>"
      ]
    },
    {
      "cell_type": "code",
      "metadata": {
        "id": "6LjtyY30TAzW"
      },
      "source": [
        "import tensorflow as tf\n",
        "from tensorflow.keras import datasets, layers, models\n",
        "import matplotlib.pyplot as plt\n",
        "import numpy as np"
      ],
      "execution_count": null,
      "outputs": []
    },
    {
      "cell_type": "markdown",
      "metadata": {
        "id": "kJOQNIPZD8hN"
      },
      "source": [
        "### **Data Loading and Cleansing of CIFAR-100**"
      ]
    },
    {
      "cell_type": "code",
      "metadata": {
        "id": "YSDaLv1VUnSZ"
      },
      "source": [
        "(train_images, train_labels), (test_images, test_labels) = datasets.cifar100.load_data(label_mode=\"coarse\")"
      ],
      "execution_count": null,
      "outputs": []
    },
    {
      "cell_type": "code",
      "metadata": {
        "colab": {
          "base_uri": "https://localhost:8080/"
        },
        "id": "OathGUmOCoBb",
        "outputId": "831be452-e278-404f-db42-d9bbef49f52e"
      },
      "source": [
        "train_labels"
      ],
      "execution_count": null,
      "outputs": [
        {
          "output_type": "execute_result",
          "data": {
            "text/plain": [
              "array([[11],\n",
              "       [15],\n",
              "       [ 4],\n",
              "       ...,\n",
              "       [ 8],\n",
              "       [ 7],\n",
              "       [ 1]])"
            ]
          },
          "metadata": {
            "tags": []
          },
          "execution_count": 22
        }
      ]
    },
    {
      "cell_type": "code",
      "metadata": {
        "id": "naZXARAe4YmN",
        "colab": {
          "base_uri": "https://localhost:8080/"
        },
        "outputId": "042e665c-5ee5-4c91-e546-fd691c69af10"
      },
      "source": [
        "# Normalize all RGB values in our images dataset\n",
        "train_images = train_images / 255.0\n",
        "test_images = test_images / 255.0\n",
        "\n",
        "# Reshaping the arrays of labels to be single dimensional arrays\n",
        "train_labels = train_labels.reshape(-1,)\n",
        "test_labels = test_labels.reshape(-1,)\n",
        "\n",
        "train_labels"
      ],
      "execution_count": null,
      "outputs": [
        {
          "output_type": "execute_result",
          "data": {
            "text/plain": [
              "array([11, 15,  4, ...,  8,  7,  1])"
            ]
          },
          "metadata": {
            "tags": []
          },
          "execution_count": 33
        }
      ]
    },
    {
      "cell_type": "code",
      "metadata": {
        "id": "ItD0k0l4klsx"
      },
      "source": [
        "# Array of all possible coarse(superclasses) and fine(subclasses) labels for our images in the CIFAR100 data\n",
        "classes_coarse = ['aquatic_mammals', 'fish', 'flowers', 'food_containers', 'fruit_and_vegetables', 'household_electrical_devices',\n",
        "                  'household_furniture', 'insects', 'large_carnivores', 'large_man-made_outdoor_things', 'large_natural_outdoor_scenes',\n",
        "                  'large_omnivores_and_herbivores', 'medium_mammals', 'non-insect_invertebrates', 'people', 'reptiles', 'small_mammals',\n",
        "                  'trees', 'vehicles_1', 'vehicles_2']"
      ],
      "execution_count": null,
      "outputs": []
    },
    {
      "cell_type": "code",
      "metadata": {
        "id": "ZvCqLehBYM_J"
      },
      "source": [
        "# All superclasses for the images classified as living or nonliving things\n",
        "classified_coarse = {\"nonliving\": [3,5,6,9,10,18,19],\n",
        "                     \"living\": [0,1,2,4,7,8,11,12,13,14,15,16,17]}\n",
        "\n",
        "new_classes = [\"nonliving\", \"living\"]"
      ],
      "execution_count": null,
      "outputs": []
    },
    {
      "cell_type": "code",
      "metadata": {
        "id": "v_RhjavhPMxP"
      },
      "source": [
        "# Classification of superclasses from the CIFAR100 dataset into humans and non-humans\n",
        "classified_dic = {\"non-humans\": [0,1,2,3,4,5,6,7,8,9,10,11,12,13,15,16,17,18,19],\n",
        "                  \"humans\": [14]}\n",
        "\n",
        "new_superclasses = [\"non-humans\", \"humans\"]"
      ],
      "execution_count": null,
      "outputs": []
    },
    {
      "cell_type": "code",
      "metadata": {
        "id": "d0mNpFBkokgt"
      },
      "source": [
        "# Classigy all labels from their original coarse labels to a living or nonliving category\n",
        "new_train_labels = []\n",
        "new_test_labels = []\n",
        "\n",
        "# We define a function to take in the original labels array and classify them into living or nonliving based on the classified_coarse dictionary\n",
        "def re_classify(data, new):\n",
        "  for Class in data:\n",
        "    if Class in classified_coarse[\"living\"]:\n",
        "      new.append(1)\n",
        "    else:\n",
        "      new.append(0)\n",
        "\n",
        "# We take the superclass train labels for all the images and classify them as living or nonliving for both train and test data\n",
        "re_classify(train_labels, new_train_labels)\n",
        "re_classify(test_labels, new_test_labels)\n",
        "\n",
        "# Convert the new reclassified labels arrays to numpy arrays for easier calculations ahead\n",
        "new_train_labels = np.array(new_train_labels)\n",
        "new_test_labels = np.array(new_test_labels)"
      ],
      "execution_count": null,
      "outputs": []
    },
    {
      "cell_type": "code",
      "metadata": {
        "id": "3XJr3muqQ-zT"
      },
      "source": [
        "# Classifying all labels from their original coarse labels into either the human or non-human category\n",
        "new_training_labels = []\n",
        "new_testing_labels = []\n",
        "\n",
        "# Writing a function to take in the original array of labels and classify them into human or non-human, based on the classified_dic dictionary\n",
        "def new_classification(data, new):\n",
        "  for Class in data:\n",
        "    if Class in classified_dic[\"humans\"]:\n",
        "      new.append(1)\n",
        "    else:\n",
        "      new.append(0)\n",
        "\n",
        "new_classification(train_labels, new_training_labels)\n",
        "new_classification(test_labels, new_testing_labels)\n",
        "\n",
        "# Converting the newly classified labels arrays to numpy arrays\n",
        "new_training_labels = np.array(new_training_labels)\n",
        "new_testing_labels = np.array(new_testing_labels)"
      ],
      "execution_count": null,
      "outputs": []
    },
    {
      "cell_type": "code",
      "metadata": {
        "id": "U-Hmr09EYNJk"
      },
      "source": [
        "# Function to plot images and label them with the correct corresponding labels in the 'y' parameter\n",
        "def plot_images(images, binary_label, all_labels, image):\n",
        "    plt.figure(figsize = (15,2))\n",
        "    plt.imshow(images[image])\n",
        "    bin_label = binary_label[image]\n",
        "    actual_label = classes_coarse[all_labels[image]]\n",
        "    if bin_label == 1:\n",
        "      plt.xlabel(\"living - \" + actual_label)\n",
        "    else:\n",
        "      plt.xlabel(\"non living - \" + actual_label)"
      ],
      "execution_count": null,
      "outputs": []
    },
    {
      "cell_type": "code",
      "metadata": {
        "colab": {
          "base_uri": "https://localhost:8080/",
          "height": 174
        },
        "id": "vy5T1bDznPw0",
        "outputId": "02d06bfb-3ff8-45f6-d111-736f22bf6219"
      },
      "source": [
        "plot_images(test_images, new_test_labels, train_labels, 0)"
      ],
      "execution_count": null,
      "outputs": [
        {
          "output_type": "display_data",
          "data": {
            "image/png": "[encoded data removed]",
            "text/plain": [
              "<Figure size 1080x144 with 1 Axes>"
            ]
          },
          "metadata": {
            "tags": [],
            "needs_background": "light"
          }
        }
      ]
    },
    {
      "cell_type": "code",
      "metadata": {
        "colab": {
          "base_uri": "https://localhost:8080/"
        },
        "id": "qPbzw7UBC2N_",
        "outputId": "4271d80d-484d-4ef2-a48d-d704b7d2aea1"
      },
      "source": [
        "print(new_train_labels)"
      ],
      "execution_count": null,
      "outputs": [
        {
          "output_type": "stream",
          "text": [
            "[1 1 1 ... 1 1 1]\n"
          ],
          "name": "stdout"
        }
      ]
    },
    {
      "cell_type": "code",
      "metadata": {
        "id": "ehVI4I3oV1GU"
      },
      "source": [
        "# Writing a function to plot images and their corresponding labels\n",
        "def to_plot(images, binary_label, all_labels, image):\n",
        "    plt.figure(figsize = (15,2))\n",
        "    plt.imshow(images[image])\n",
        "    bin_label = binary_label[image]\n",
        "    actual_label = classes_coarse[all_labels[image]]\n",
        "    if bin_label == 1:\n",
        "      plt.xlabel(\"human\")\n",
        "    else:\n",
        "      plt.xlabel(\"non-human: \" + actual_label)"
      ],
      "execution_count": null,
      "outputs": []
    },
    {
      "cell_type": "markdown",
      "metadata": {
        "id": "haysf-2pERyn"
      },
      "source": [
        "### **Creating a Convolutional Neural Network for classification of Living v/s Non-living things**"
      ]
    },
    {
      "cell_type": "code",
      "metadata": {
        "colab": {
          "base_uri": "https://localhost:8080/"
        },
        "id": "4otvLL36wlOx",
        "outputId": "ca7aeea3-8238-480e-d7ac-26a6d3c53103"
      },
      "source": [
        "# Create a Convolutional Neural Network to learn the labels of all different images in our dataset. \n",
        "# Here the Network has 2 convolutional and pooling layers, one hidden layer with 64 neurons and finally the\n",
        "# output layer with 2 neurons that represent either class living or class nonliving\n",
        "cnn = models.Sequential([\n",
        "    layers.Conv2D(filters=64, kernel_size=(3, 3), activation='relu', input_shape=(32, 32, 3)),\n",
        "    layers.MaxPooling2D((2, 2)),\n",
        "    \n",
        "    layers.Conv2D(filters=128, kernel_size=(3, 3), activation='relu', input_shape=(32, 32, 3)),\n",
        "    layers.MaxPooling2D((2, 2)),\n",
        "\n",
        "    \n",
        "    layers.Flatten(),\n",
        "    layers.Dense(128, activation='relu'),\n",
        "    layers.Dense(2, activation='softmax')\n",
        "])\n",
        "\n",
        "cnn.compile(optimizer='adam',\n",
        "              loss='sparse_categorical_crossentropy',\n",
        "              metrics=['accuracy'])\n",
        "\n",
        "history = cnn.fit(train_images, new_train_labels, epochs=10)"
      ],
      "execution_count": null,
      "outputs": [
        {
          "output_type": "stream",
          "text": [
            "Epoch 1/10\n",
            "1563/1563 [==============================] - 11s 7ms/step - loss: 0.5578 - accuracy: 0.7230\n",
            "Epoch 2/10\n",
            "1563/1563 [==============================] - 10s 7ms/step - loss: 0.4452 - accuracy: 0.7977\n",
            "Epoch 3/10\n",
            "1563/1563 [==============================] - 10s 7ms/step - loss: 0.3953 - accuracy: 0.8267\n",
            "Epoch 4/10\n",
            "1563/1563 [==============================] - 10s 7ms/step - loss: 0.3527 - accuracy: 0.8486\n",
            "Epoch 5/10\n",
            "1563/1563 [==============================] - 10s 7ms/step - loss: 0.3181 - accuracy: 0.8658\n",
            "Epoch 6/10\n",
            "1563/1563 [==============================] - 10s 6ms/step - loss: 0.2793 - accuracy: 0.8842\n",
            "Epoch 7/10\n",
            "1563/1563 [==============================] - 10s 6ms/step - loss: 0.2433 - accuracy: 0.9008\n",
            "Epoch 8/10\n",
            "1563/1563 [==============================] - 10s 6ms/step - loss: 0.2056 - accuracy: 0.9174\n",
            "Epoch 9/10\n",
            "1563/1563 [==============================] - 10s 6ms/step - loss: 0.1770 - accuracy: 0.9317\n",
            "Epoch 10/10\n",
            "1563/1563 [==============================] - 10s 6ms/step - loss: 0.1438 - accuracy: 0.9437\n"
          ],
          "name": "stdout"
        }
      ]
    },
    {
      "cell_type": "code",
      "metadata": {
        "colab": {
          "base_uri": "https://localhost:8080/",
          "height": 430
        },
        "id": "AXV_Yxstd20z",
        "outputId": "68c99ef6-b06b-403c-cc2d-ada5b605af4f"
      },
      "source": [
        "plt.figure(figsize=[8,6])\n",
        "plt.plot(history.history[\"loss\"], linewidth=3)\n",
        "plt.plot(history.history[\"accuracy\"], linewidth=3)\n",
        "plt.legend([\"Training Loss\", \"Training Accuracy\"], fontsize=18)\n",
        "plt.xlabel(\"Epochs\", fontsize=16)\n",
        "plt.ylabel(\"Loss/Accuracy %\", fontsize=16)\n",
        "plt.title(\"Loss vs Accuracy\", fontsize=18)"
      ],
      "execution_count": null,
      "outputs": [
        {
          "output_type": "execute_result",
          "data": {
            "text/plain": [
              "Text(0.5, 1.0, 'Loss vs Accuracy')"
            ]
          },
          "metadata": {
            "tags": []
          },
          "execution_count": 21
        },
        {
          "output_type": "display_data",
          "data": {
            "image/png": "[encoded data removed]",
            "text/plain": [
              "<Figure size 576x432 with 1 Axes>"
            ]
          },
          "metadata": {
            "tags": [],
            "needs_background": "light"
          }
        }
      ]
    },
    {
      "cell_type": "code",
      "metadata": {
        "colab": {
          "base_uri": "https://localhost:8080/"
        },
        "id": "XZcmbkoMm0tp",
        "outputId": "7c9d2f20-9118-4439-c2fe-e2128f57303e"
      },
      "source": [
        "# Evaluate the model on our array of new test labels which have only 0 and 1 values for living v/s nonliving\n",
        "# instead of 0-19 values for all classes in the original data\n",
        "cnn.evaluate(test_images, new_test_labels)\n",
        "\n",
        "# Make predictions of labels on our testing dataset of 10000 images \n",
        "network_predictions = cnn.predict(test_images)"
      ],
      "execution_count": null,
      "outputs": [
        {
          "output_type": "stream",
          "text": [
            "313/313 [==============================] - 1s 4ms/step - loss: 0.4642 - accuracy: 0.8435\n"
          ],
          "name": "stdout"
        }
      ]
    },
    {
      "cell_type": "markdown",
      "metadata": {
        "id": "z6kwLdRIE-uN"
      },
      "source": [
        "### **Testing**"
      ]
    },
    {
      "cell_type": "code",
      "metadata": {
        "id": "UXqsrDTWO4YE",
        "colab": {
          "base_uri": "https://localhost:8080/"
        },
        "outputId": "1f7d8b20-5213-4802-922c-f7ff6d1ed36d"
      },
      "source": [
        "print(\"We get an array of len:\")\n",
        "print(len(network_predictions))\n",
        "print(\"\")\n",
        "print(\"Outputs of the network on our 10000 testing images dataset:\")\n",
        "print(network_predictions)\n",
        "print(\"\")\n",
        "print(\"For every input to our network our network outputs a list of 2 values for example:\")\n",
        "print(network_predictions[0])"
      ],
      "execution_count": null,
      "outputs": [
        {
          "output_type": "stream",
          "text": [
            "We get an array of len:\n",
            "10000\n",
            "\n",
            "Outputs of the network on our 10000 testing images dataset:\n",
            "[[2.6842925e-01 7.3157078e-01]\n",
            " [5.6782681e-01 4.3217319e-01]\n",
            " [1.6954068e-04 9.9983048e-01]\n",
            " ...\n",
            " [2.4304835e-02 9.7569513e-01]\n",
            " [7.2459155e-01 2.7540842e-01]\n",
            " [1.1861008e-03 9.9881387e-01]]\n",
            "\n",
            "For every input to our network our network outputs a list of 2 values for example:\n",
            "[0.26842925 0.7315708 ]\n"
          ],
          "name": "stdout"
        }
      ]
    },
    {
      "cell_type": "code",
      "metadata": {
        "id": "PzhUDiVePDRG"
      },
      "source": [
        "predicted_labels = []\n",
        "for element in network_predictions:\n",
        "  predicted_labels.append(np.argmax(element))\n",
        "predicted_labels = np.array(predicted_labels)"
      ],
      "execution_count": null,
      "outputs": []
    },
    {
      "cell_type": "code",
      "metadata": {
        "colab": {
          "base_uri": "https://localhost:8080/"
        },
        "id": "U2oc_V7YPPPL",
        "outputId": "3cc93b2d-e0e6-4076-acdc-9389de835fe9"
      },
      "source": [
        "# First 100 image's original labels\n",
        "print(new_test_labels[:100])"
      ],
      "execution_count": null,
      "outputs": [
        {
          "output_type": "stream",
          "text": [
            "[0 0 1 1 0 1 1 1 0 1 0 1 0 0 0 1 1 1 1 1 1 0 1 1 1 0 0 0 0 1 0 0 0 1 1 1 0\n",
            " 1 0 0 1 1 0 1 1 0 0 0 1 0 1 1 0 1 1 1 0 1 1 0 1 1 1 1 1 1 1 1 1 1 1 0 1 1\n",
            " 1 1 1 0 1 0 0 1 1 1 1 0 1 0 1 1 0 1 1 1 0 1 1 1 0 1]\n"
          ],
          "name": "stdout"
        }
      ]
    },
    {
      "cell_type": "code",
      "metadata": {
        "colab": {
          "base_uri": "https://localhost:8080/"
        },
        "id": "cgPO0bgNG4Vq",
        "outputId": "c87591cf-e45e-4244-83ef-2fafa59ae629"
      },
      "source": [
        "# First 100 image's predicted labels\n",
        "print(predicted_labels[:100])"
      ],
      "execution_count": null,
      "outputs": [
        {
          "output_type": "stream",
          "text": [
            "[1 0 1 1 0 1 1 1 0 1 1 1 0 0 0 1 1 1 1 1 1 0 0 1 1 0 0 0 0 1 0 0 0 1 1 1 0\n",
            " 1 0 0 1 1 0 0 1 0 1 0 1 0 1 1 0 0 1 1 0 1 1 0 1 1 0 1 1 1 1 1 0 1 1 0 0 1\n",
            " 1 1 1 0 1 0 0 1 1 0 1 0 1 1 1 1 0 0 1 1 0 1 0 1 0 1]\n"
          ],
          "name": "stdout"
        }
      ]
    },
    {
      "cell_type": "code",
      "metadata": {
        "colab": {
          "base_uri": "https://localhost:8080/",
          "height": 488
        },
        "id": "WzY8R-ZFPXyL",
        "outputId": "4949646b-8ae5-4207-a3a9-075cde613a03"
      },
      "source": [
        "# Plots of first 3 images with original labels\n",
        "plot_images(test_images, new_test_labels, test_labels, 0)\n",
        "plot_images(test_images, new_test_labels, test_labels, 1)\n",
        "plot_images(test_images, new_test_labels, test_labels, 2)"
      ],
      "execution_count": null,
      "outputs": [
        {
          "output_type": "display_data",
          "data": {
            "image/png": "[encoded data removed]",
            "text/plain": [
              "<Figure size 1080x144 with 1 Axes>"
            ]
          },
          "metadata": {
            "tags": [],
            "needs_background": "light"
          }
        },
        {
          "output_type": "display_data",
          "data": {
            "image/png": "[encoded data removed]",
            "text/plain": [
              "<Figure size 1080x144 with 1 Axes>"
            ]
          },
          "metadata": {
            "tags": [],
            "needs_background": "light"
          }
        },
        {
          "output_type": "display_data",
          "data": {
            "image/png": "[encoded data removed]",
            "text/plain": [
              "<Figure size 1080x144 with 1 Axes>"
            ]
          },
          "metadata": {
            "tags": [],
            "needs_background": "light"
          }
        }
      ]
    },
    {
      "cell_type": "code",
      "metadata": {
        "colab": {
          "base_uri": "https://localhost:8080/",
          "height": 488
        },
        "id": "T3uy1MKjthV1",
        "outputId": "009b9ebc-a8ba-445b-ee11-199ef9d13d19"
      },
      "source": [
        "# Plots of first 3 images with predicted labels\n",
        "plot_images(test_images, predicted_labels, test_labels, 0)\n",
        "plot_images(test_images, predicted_labels, test_labels, 1)\n",
        "plot_images(test_images, predicted_labels, test_labels, 2)"
      ],
      "execution_count": null,
      "outputs": [
        {
          "output_type": "display_data",
          "data": {
            "image/png": "[encoded data removed]",
            "text/plain": [
              "<Figure size 1080x144 with 1 Axes>"
            ]
          },
          "metadata": {
            "tags": [],
            "needs_background": "light"
          }
        },
        {
          "output_type": "display_data",
          "data": {
            "image/png": "[encoded data removed]",
            "text/plain": [
              "<Figure size 1080x144 with 1 Axes>"
            ]
          },
          "metadata": {
            "tags": [],
            "needs_background": "light"
          }
        },
        {
          "output_type": "display_data",
          "data": {
            "image/png": "[encoded data removed]",
            "text/plain": [
              "<Figure size 1080x144 with 1 Axes>"
            ]
          },
          "metadata": {
            "tags": [],
            "needs_background": "light"
          }
        }
      ]
    },
    {
      "cell_type": "code",
      "metadata": {
        "colab": {
          "base_uri": "https://localhost:8080/"
        },
        "id": "6vIPIS2hPw5O",
        "outputId": "6617d475-a104-400f-8f57-419e87977c17"
      },
      "source": [
        "print(\"predicted: \" + new_classes[predicted_labels[0]] + \", actual: \" + new_classes[new_test_labels[0]])\n",
        "print(\"predicted: \" + new_classes[predicted_labels[1]] + \", actual: \" + new_classes[new_test_labels[1]])\n",
        "print(\"predicted: \" + new_classes[predicted_labels[2]] + \", actual: \" + new_classes[new_test_labels[2]])\n",
        "print(\"predicted: \" + new_classes[predicted_labels[3]] + \", actual: \" + new_classes[new_test_labels[3]])\n",
        "print(\"predicted: \" + new_classes[predicted_labels[4]] + \", actual: \" + new_classes[new_test_labels[4]])\n",
        "print(\"predicted: \" + new_classes[predicted_labels[5]] + \", actual: \" + new_classes[new_test_labels[5]])\n",
        "print(\"predicted: \" + new_classes[predicted_labels[6]] + \", actual: \" + new_classes[new_test_labels[6]])\n",
        "print(\"predicted: \" + new_classes[predicted_labels[7]] + \", actual: \" + new_classes[new_test_labels[7]])\n",
        "print(\"predicted: \" + new_classes[predicted_labels[8]] + \", actual: \" + new_classes[new_test_labels[8]])\n",
        "print(\"predicted: \" + new_classes[predicted_labels[9]] + \", actual: \" + new_classes[new_test_labels[9]])"
      ],
      "execution_count": null,
      "outputs": [
        {
          "output_type": "stream",
          "text": [
            "predicted: living, actual: nonliving\n",
            "predicted: nonliving, actual: nonliving\n",
            "predicted: living, actual: living\n",
            "predicted: living, actual: living\n",
            "predicted: nonliving, actual: nonliving\n",
            "predicted: living, actual: living\n",
            "predicted: living, actual: living\n",
            "predicted: living, actual: living\n",
            "predicted: nonliving, actual: nonliving\n",
            "predicted: living, actual: living\n"
          ],
          "name": "stdout"
        }
      ]
    },
    {
      "cell_type": "markdown",
      "metadata": {
        "id": "_LVQKSNAXHH3"
      },
      "source": [
        "### **Creating a Convolutional Neural Network to classify between Humans and Non-humans**"
      ]
    },
    {
      "cell_type": "code",
      "metadata": {
        "colab": {
          "base_uri": "https://localhost:8080/"
        },
        "id": "FKOY6MQyYHRV",
        "outputId": "f93c7f93-9c0b-4ee2-9f21-ea0b248ec707"
      },
      "source": [
        "# Creating a Convolutional Neural Network that will learn the labels of all different images in our dataset. \n",
        "# Here the Network has 2 convolutional and pooling layers, one hidden layer with 128 neurons and finally the\n",
        "# output layer with 2 neurons that represent either class living or class nonliving\n",
        "cnn_humans = models.Sequential([\n",
        "                                layers.Conv2D(filters=32, kernel_size=(3, 3), activation='relu', input_shape=(32, 32, 3)),\n",
        "                                layers.MaxPooling2D((2, 2)),\n",
        "                                \n",
        "                                layers.Conv2D(filters=64, kernel_size=(3, 3), activation='relu'),\n",
        "                                layers.MaxPooling2D((2, 2)),\n",
        "                                \n",
        "                                layers.Flatten(),\n",
        "                                layers.Dense(64, activation='relu'),\n",
        "                                layers.Dense(2, activation='softmax')\n",
        "                                ])\n",
        "\n",
        "cnn_humans.compile(optimizer='adam',\n",
        "                   loss='sparse_categorical_crossentropy',\n",
        "                   metrics=['accuracy'])\n",
        "\n",
        "training_hist = cnn_humans.fit(train_images, new_training_labels, epochs=10)"
      ],
      "execution_count": null,
      "outputs": [
        {
          "output_type": "stream",
          "text": [
            "Epoch 1/10\n",
            "1563/1563 [==============================] - 37s 3ms/step - loss: 0.1885 - accuracy: 0.9467\n",
            "Epoch 2/10\n",
            "1563/1563 [==============================] - 5s 3ms/step - loss: 0.1409 - accuracy: 0.9570\n",
            "Epoch 3/10\n",
            "1563/1563 [==============================] - 5s 3ms/step - loss: 0.1242 - accuracy: 0.9618\n",
            "Epoch 4/10\n",
            "1563/1563 [==============================] - 5s 3ms/step - loss: 0.1111 - accuracy: 0.9655\n",
            "Epoch 5/10\n",
            "1563/1563 [==============================] - 5s 3ms/step - loss: 0.1025 - accuracy: 0.9673\n",
            "Epoch 6/10\n",
            "1563/1563 [==============================] - 5s 3ms/step - loss: 0.0935 - accuracy: 0.9696\n",
            "Epoch 7/10\n",
            "1563/1563 [==============================] - 5s 3ms/step - loss: 0.0863 - accuracy: 0.9717\n",
            "Epoch 8/10\n",
            "1563/1563 [==============================] - 5s 3ms/step - loss: 0.0720 - accuracy: 0.9758\n",
            "Epoch 9/10\n",
            "1563/1563 [==============================] - 5s 3ms/step - loss: 0.0649 - accuracy: 0.9782\n",
            "Epoch 10/10\n",
            "1563/1563 [==============================] - 5s 3ms/step - loss: 0.0540 - accuracy: 0.9812\n"
          ],
          "name": "stdout"
        }
      ]
    },
    {
      "cell_type": "code",
      "metadata": {
        "colab": {
          "base_uri": "https://localhost:8080/",
          "height": 430
        },
        "id": "DGfzbTCqu_Yq",
        "outputId": "5fdb9b24-c225-48b7-805f-59c5dfb3bc05"
      },
      "source": [
        "plt.figure(figsize=[8,6])\n",
        "plt.plot(training_hist.history[\"loss\"], linewidth=3)\n",
        "plt.plot(training_hist.history[\"accuracy\"], linewidth=3)\n",
        "plt.legend([\"Training Loss\", \"Training Accuracy\"], fontsize=18)\n",
        "plt.xlabel(\"Epochs\", fontsize=16)\n",
        "plt.ylabel(\"Loss & Accuracy %\", fontsize=16)\n",
        "plt.title(\"Training Loss & Accuracy Chart\", fontsize=18)"
      ],
      "execution_count": null,
      "outputs": [
        {
          "output_type": "execute_result",
          "data": {
            "text/plain": [
              "Text(0.5, 1.0, 'Training Loss & Accuracy Chart')"
            ]
          },
          "metadata": {
            "tags": []
          },
          "execution_count": 25
        },
        {
          "output_type": "display_data",
          "data": {
            "image/png": "[encoded data removed]",
            "text/plain": [
              "<Figure size 576x432 with 1 Axes>"
            ]
          },
          "metadata": {
            "tags": [],
            "needs_background": "light"
          }
        }
      ]
    },
    {
      "cell_type": "code",
      "metadata": {
        "colab": {
          "base_uri": "https://localhost:8080/"
        },
        "id": "miEtEXYyaBUd",
        "outputId": "f925fd83-a773-4e71-cd11-6a3d0ec61d49"
      },
      "source": [
        "# Evaluating the model on the array new_testing_labels which have only 0 and 1 values for humans or non-humans\n",
        "# instead of 0-19 values for all classes in the original data\n",
        "cnn_humans.evaluate(test_images, new_testing_labels)\n",
        "\n",
        "# Make predictions of labels on our testing dataset of 10000 images \n",
        "model_prediction = cnn_humans.predict(test_images)"
      ],
      "execution_count": null,
      "outputs": [
        {
          "output_type": "stream",
          "text": [
            "313/313 [==============================] - 1s 4ms/step - loss: 0.1536 - accuracy: 0.9639\n"
          ],
          "name": "stdout"
        }
      ]
    },
    {
      "cell_type": "markdown",
      "metadata": {
        "id": "xW8J_JhYfu6X"
      },
      "source": [
        "### **Testing the Human Classification CNN Model**"
      ]
    },
    {
      "cell_type": "code",
      "metadata": {
        "id": "xr4bilZ1gjBh"
      },
      "source": [
        "predictions = []\n",
        "for element in model_prediction:\n",
        "  predictions.append(np.argmax(element))\n",
        "predictions = np.array(predictions)"
      ],
      "execution_count": null,
      "outputs": []
    },
    {
      "cell_type": "code",
      "metadata": {
        "colab": {
          "base_uri": "https://localhost:8080/",
          "height": 486
        },
        "id": "x8zyhU_chffP",
        "outputId": "6ba41be9-18f5-4d28-fef2-7651842862a5"
      },
      "source": [
        "# Plots of first 3 images with original labels\n",
        "to_plot(test_images, new_testing_labels, test_labels, 6)\n",
        "to_plot(test_images, new_testing_labels, test_labels, 88)\n",
        "to_plot(test_images, new_testing_labels, test_labels, 65)"
      ],
      "execution_count": null,
      "outputs": [
        {
          "output_type": "display_data",
          "data": {
            "image/png": "[encoded data removed]",
            "text/plain": [
              "<Figure size 1080x144 with 1 Axes>"
            ]
          },
          "metadata": {
            "tags": [],
            "needs_background": "light"
          }
        },
        {
          "output_type": "display_data",
          "data": {
            "image/png": "[encoded data removed]",
            "text/plain": [
              "<Figure size 1080x144 with 1 Axes>"
            ]
          },
          "metadata": {
            "tags": [],
            "needs_background": "light"
          }
        },
        {
          "output_type": "display_data",
          "data": {
            "image/png": "[encoded data removed]",
            "text/plain": [
              "<Figure size 1080x144 with 1 Axes>"
            ]
          },
          "metadata": {
            "tags": [],
            "needs_background": "light"
          }
        }
      ]
    },
    {
      "cell_type": "code",
      "metadata": {
        "colab": {
          "base_uri": "https://localhost:8080/"
        },
        "id": "eXdk-OhojQtm",
        "outputId": "51b8164a-a3e5-47dd-cc79-352a86e795c6"
      },
      "source": [
        "ii = np.where(new_testing_labels == 1)[0]\n",
        "ii"
      ],
      "execution_count": null,
      "outputs": [
        {
          "output_type": "execute_result",
          "data": {
            "text/plain": [
              "array([  37,   54,   65,   88,   99,  129,  130,  141,  188,  211,  216,\n",
              "        244,  291,  325,  346,  358,  379,  408,  414,  431,  434,  454,\n",
              "        463,  503,  504,  511,  512,  521,  523,  525,  534,  542,  551,\n",
              "        573,  589,  600,  610,  616,  724,  748,  757,  802,  830,  842,\n",
              "        850,  855,  866,  887,  930,  955,  987,  994, 1012, 1047, 1114,\n",
              "       1126, 1152, 1168, 1169, 1173, 1182, 1238, 1250, 1259, 1270, 1287,\n",
              "       1294, 1315, 1348, 1351, 1367, 1371, 1399, 1444, 1461, 1468, 1479,\n",
              "       1521, 1541, 1561, 1609, 1622, 1654, 1665, 1669, 1673, 1682, 1730,\n",
              "       1747, 1758, 1778, 1791, 1800, 1833, 1848, 1851, 1896, 1936, 1941,\n",
              "       1978, 1983, 1989, 1991, 2007, 2020, 2022, 2026, 2034, 2119, 2162,\n",
              "       2167, 2170, 2179, 2187, 2194, 2228, 2230, 2305, 2316, 2358, 2388,\n",
              "       2391, 2427, 2433, 2451, 2452, 2457, 2497, 2498, 2521, 2552, 2593,\n",
              "       2608, 2610, 2638, 2641, 2667, 2685, 2705, 2713, 2718, 2747, 2755,\n",
              "       2777, 2780, 2803, 2804, 2840, 2846, 2863, 2868, 2870, 2874, 2878,\n",
              "       2899, 2910, 2923, 2935, 2949, 2952, 2971, 2996, 3003, 3012, 3062,\n",
              "       3068, 3081, 3116, 3126, 3160, 3171, 3187, 3270, 3313, 3315, 3365,\n",
              "       3393, 3397, 3400, 3425, 3469, 3472, 3481, 3485, 3519, 3527, 3534,\n",
              "       3535, 3545, 3557, 3566, 3569, 3577, 3599, 3603, 3615, 3687, 3689,\n",
              "       3707, 3720, 3724, 3766, 3816, 3820, 3834, 3869, 3879, 3921, 3979,\n",
              "       3980, 4006, 4015, 4018, 4029, 4036, 4046, 4050, 4056, 4071, 4082,\n",
              "       4110, 4141, 4170, 4176, 4178, 4180, 4227, 4247, 4257, 4265, 4317,\n",
              "       4324, 4359, 4385, 4393, 4399, 4420, 4450, 4484, 4500, 4526, 4544,\n",
              "       4551, 4560, 4574, 4623, 4648, 4654, 4684, 4690, 4728, 4750, 4789,\n",
              "       4810, 4819, 4834, 4836, 4846, 4852, 4857, 4862, 4876, 4886, 4912,\n",
              "       4917, 4955, 4962, 5017, 5026, 5046, 5061, 5092, 5117, 5118, 5126,\n",
              "       5174, 5183, 5197, 5203, 5257, 5331, 5345, 5377, 5391, 5416, 5512,\n",
              "       5535, 5536, 5545, 5564, 5602, 5623, 5626, 5636, 5655, 5685, 5700,\n",
              "       5769, 5774, 5797, 5798, 5808, 5831, 5897, 5903, 5916, 5936, 5960,\n",
              "       5971, 5980, 5996, 6002, 6021, 6023, 6041, 6058, 6060, 6110, 6126,\n",
              "       6196, 6225, 6227, 6230, 6241, 6247, 6291, 6301, 6317, 6350, 6357,\n",
              "       6374, 6383, 6384, 6386, 6465, 6534, 6573, 6585, 6606, 6611, 6617,\n",
              "       6624, 6628, 6651, 6669, 6672, 6698, 6709, 6716, 6758, 6761, 6775,\n",
              "       6805, 6819, 6871, 6875, 6883, 6937, 6980, 7000, 7024, 7044, 7059,\n",
              "       7061, 7076, 7111, 7114, 7130, 7163, 7208, 7221, 7231, 7236, 7240,\n",
              "       7260, 7290, 7305, 7310, 7343, 7346, 7359, 7368, 7440, 7455, 7481,\n",
              "       7487, 7533, 7577, 7578, 7608, 7617, 7671, 7674, 7682, 7707, 7713,\n",
              "       7742, 7761, 7826, 7897, 7905, 7929, 7955, 7968, 7983, 8012, 8016,\n",
              "       8062, 8069, 8078, 8096, 8119, 8138, 8145, 8159, 8168, 8178, 8235,\n",
              "       8253, 8271, 8276, 8331, 8337, 8343, 8355, 8358, 8375, 8389, 8396,\n",
              "       8413, 8439, 8465, 8499, 8589, 8591, 8601, 8615, 8623, 8667, 8680,\n",
              "       8792, 8803, 8824, 8858, 8863, 8897, 8922, 8926, 8935, 8946, 8948,\n",
              "       8952, 8963, 9001, 9018, 9026, 9032, 9094, 9137, 9139, 9151, 9224,\n",
              "       9226, 9240, 9278, 9280, 9296, 9299, 9323, 9333, 9337, 9339, 9364,\n",
              "       9408, 9424, 9462, 9488, 9519, 9552, 9576, 9579, 9616, 9625, 9635,\n",
              "       9640, 9674, 9709, 9727, 9733, 9763, 9770, 9774, 9816, 9839, 9843,\n",
              "       9858, 9864, 9887, 9898, 9974])"
            ]
          },
          "metadata": {
            "tags": []
          },
          "execution_count": 29
        }
      ]
    },
    {
      "cell_type": "code",
      "metadata": {
        "colab": {
          "base_uri": "https://localhost:8080/",
          "height": 486
        },
        "id": "bl1FmAyUla7W",
        "outputId": "9a5433aa-e17c-4bc5-c207-7193b5e022a3"
      },
      "source": [
        "# Plots of first 3 images with predicted labels\n",
        "to_plot(test_images, predictions, test_labels, 6)\n",
        "to_plot(test_images, predictions, test_labels, 88)\n",
        "to_plot(test_images, predictions, test_labels, 65)"
      ],
      "execution_count": null,
      "outputs": [
        {
          "output_type": "display_data",
          "data": {
            "image/png": "[encoded data removed]",
            "text/plain": [
              "<Figure size 1080x144 with 1 Axes>"
            ]
          },
          "metadata": {
            "tags": [],
            "needs_background": "light"
          }
        },
        {
          "output_type": "display_data",
          "data": {
            "image/png": "[encoded data removed]",
            "text/plain": [
              "<Figure size 1080x144 with 1 Axes>"
            ]
          },
          "metadata": {
            "tags": [],
            "needs_background": "light"
          }
        },
        {
          "output_type": "display_data",
          "data": {
            "image/png": "[encoded data removed]",
            "text/plain": [
              "<Figure size 1080x144 with 1 Axes>"
            ]
          },
          "metadata": {
            "tags": [],
            "needs_background": "light"
          }
        }
      ]
    },
    {
      "cell_type": "code",
      "metadata": {
        "colab": {
          "base_uri": "https://localhost:8080/"
        },
        "id": "BCICQL8GlwTL",
        "outputId": "6d7f1f5a-490c-428f-d6d3-deb9cf91418b"
      },
      "source": [
        "print(\"predicted: \" + new_superclasses[predictions[0]] + \", actual: \" + new_superclasses[new_testing_labels[0]])\n",
        "print(\"predicted: \" + new_superclasses[predictions[2]] + \", actual: \" + new_superclasses[new_testing_labels[2]])\n",
        "print(\"predicted: \" + new_superclasses[predictions[3]] + \", actual: \" + new_superclasses[new_testing_labels[3]])\n",
        "print(\"predicted: \" + new_superclasses[predictions[37]] + \", actual: \" + new_superclasses[new_testing_labels[37]])\n",
        "print(\"predicted: \" + new_superclasses[predictions[65]] + \", actual: \" + new_superclasses[new_testing_labels[65]])\n",
        "print(\"predicted: \" + new_superclasses[predictions[3]] + \", actual: \" + new_superclasses[new_testing_labels[3]])\n",
        "print(\"predicted: \" + new_superclasses[predictions[5]] + \", actual: \" + new_superclasses[new_testing_labels[5]])\n",
        "print(\"predicted: \" + new_superclasses[predictions[88]] + \", actual: \" + new_superclasses[new_testing_labels[88]])\n",
        "print(\"predicted: \" + new_superclasses[predictions[6]] + \", actual: \" + new_superclasses[new_testing_labels[6]])\n",
        "print(\"predicted: \" + new_superclasses[predictions[99]] + \", actual: \" + new_superclasses[new_testing_labels[99]])"
      ],
      "execution_count": null,
      "outputs": [
        {
          "output_type": "stream",
          "text": [
            "predicted: non-humans, actual: non-humans\n",
            "predicted: non-humans, actual: non-humans\n",
            "predicted: non-humans, actual: non-humans\n",
            "predicted: non-humans, actual: humans\n",
            "predicted: non-humans, actual: humans\n",
            "predicted: non-humans, actual: non-humans\n",
            "predicted: non-humans, actual: non-humans\n",
            "predicted: non-humans, actual: humans\n",
            "predicted: non-humans, actual: non-humans\n",
            "predicted: non-humans, actual: humans\n"
          ],
          "name": "stdout"
        }
      ]
    }
  ]
}